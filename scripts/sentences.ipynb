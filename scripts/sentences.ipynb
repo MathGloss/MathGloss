{
 "cells": [
  {
   "cell_type": "code",
   "execution_count": 8,
   "metadata": {},
   "outputs": [],
   "source": [
    "# Adjusting the code to replace double $$ with a single $ and pad spaces around it.\n",
    "import re\n",
    "def process_markdown_file(file_path):\n",
    "    with open(file_path, 'r') as file:\n",
    "        lines = file.readlines()\n",
    "\n",
    "    # Remove YAML header (anything between --- and --- at the top)\n",
    "    if lines[0].strip() == \"---\":\n",
    "        end_header_idx = 1\n",
    "        while end_header_idx < len(lines) and lines[end_header_idx].strip() != \"---\":\n",
    "            end_header_idx += 1\n",
    "        lines = lines[end_header_idx+1:]  # Skip past the closing ---\n",
    "    \n",
    "    processed_lines = []\n",
    "    \n",
    "    for line in lines:\n",
    "        # Remove links but maintain the link text\n",
    "        line = re.sub(r'\\[([^\\]]+)\\]\\([^\\)]+\\)', r'\\1', line)\n",
    "        line = re.sub(r'\\[\\]\\([^\\)]+\\)', '', line)\n",
    "        \n",
    "        # Replace double $$ with single $ and pad spaces around it\n",
    "        line = re.sub(r'\\$\\$', r' $ ', line)\n",
    "        \n",
    "        # Add space after single $ but not for already spaced $\n",
    "        line = re.sub(r'(?<!\\$)\\$(?!\\$)', r' $ ', line)  # Add space after single $\n",
    "        \n",
    "        # Add space around hyphens (-)\n",
    "        line = re.sub(r'(\\S)-(\\S)', r'\\1 - \\2', line)  # Non-whitespace on both sides\n",
    "        line = re.sub(r'(\\S)-(\\s)', r'\\1 - \\2', line)  # Non-whitespace followed by space\n",
    "        line = re.sub(r'(\\s)-(\\S)', r'\\1 - \\2', line) \n",
    "\n",
    "        # Remove markdown formatting\n",
    "        line = re.sub(r'[*_]+', '', line)\n",
    "\n",
    "        \n",
    "        # Skip lines containing \"wikidata\"\n",
    "        if \"wikidata\" in line.lower():\n",
    "            continue\n",
    "        \n",
    "\n",
    "        line = re.sub(r'\\s+', ' ', line)\n",
    "\n",
    "        processed_lines.append(line)\n",
    "\n",
    "    # Join processed lines into a single output\n",
    "    return ''.join(processed_lines)\n"
   ]
  },
  {
   "cell_type": "code",
   "execution_count": 9,
   "metadata": {},
   "outputs": [],
   "source": [
    "import os\n",
    "\n",
    "def process_directory(directory_path):\n",
    "    with open('chicago_fulltext.txt','w') as chicago:\n",
    "        for filename in os.listdir(directory_path):\n",
    "            if filename.endswith('.md'):\n",
    "                chicago.write(process_markdown_file(os.path.join(directory_path, filename))+'\\n')\n",
    "\n",
    "process_directory(\"/Users/lucyhorowitz/Documents/GitHub/MathGloss/chicago\")"
   ]
  },
  {
   "cell_type": "code",
   "execution_count": 10,
   "metadata": {},
   "outputs": [],
   "source": [
    "input_file = 'chicago_sents.txt'\n",
    "output_file = 'chi_sents.txt'\n",
    "\n",
    "with open(input_file, 'r') as infile, open(output_file, 'w') as outfile:\n",
    "    for line in infile:\n",
    "        if line.strip():  # Check if the line is not empty\n",
    "            outfile.write(line)"
   ]
  }
 ],
 "metadata": {
  "kernelspec": {
   "display_name": "Python 3",
   "language": "python",
   "name": "python3"
  },
  "language_info": {
   "codemirror_mode": {
    "name": "ipython",
    "version": 3
   },
   "file_extension": ".py",
   "mimetype": "text/x-python",
   "name": "python",
   "nbconvert_exporter": "python",
   "pygments_lexer": "ipython3",
   "version": "3.12.3"
  }
 },
 "nbformat": 4,
 "nbformat_minor": 2
}
