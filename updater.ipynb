{
 "cells": [
  {
   "cell_type": "code",
   "execution_count": 5,
   "metadata": {},
   "outputs": [],
   "source": [
    "# Remove the 'Context' column from df_cleaned\n",
    "df_cleaned = df_cleaned.drop(columns=['Context'])\n",
    "\n",
    "# Save the updated DataFrame to a CSV file\n",
    "df_cleaned.to_csv('database_cleaned.csv', index=False)"
   ]
  },
  {
   "cell_type": "code",
   "execution_count": 7,
   "metadata": {},
   "outputs": [
    {
     "name": "stderr",
     "output_type": "stream",
     "text": [
      "/var/folders/zt/k_rggns533n6tv1w6sj042yc0000gn/T/ipykernel_33559/4075708671.py:14: FutureWarning: Series.__getitem__ treating keys as positions is deprecated. In a future version, integer keys will always be treated as labels (consistent with DataFrame behavior). To access a value by position, use `ser.iloc[pos]`\n",
      "  matching_index = df_cleaned[df_cleaned['Wikidata ID'] == row[0]].index\n",
      "/var/folders/zt/k_rggns533n6tv1w6sj042yc0000gn/T/ipykernel_33559/4075708671.py:16: FutureWarning: Series.__getitem__ treating keys as positions is deprecated. In a future version, integer keys will always be treated as labels (consistent with DataFrame behavior). To access a value by position, use `ser.iloc[pos]`\n",
      "  df_cleaned.at[matching_index[0], 'Context'] = row[1]\n"
     ]
    }
   ],
   "source": [
    "import pandas as pd\n",
    "\n",
    "# Load the existing cleaned database\n",
    "df_cleaned = pd.read_csv('database_cleaned.csv')\n",
    "\n",
    "# Load the new data from another CSV file\n",
    "new_data = pd.read_csv('/Users/lucyhorowitz/Documents/MathGloss/ZZZnewstuff/context_mappings.csv')\n",
    "\n",
    "# Ensure the new column \"Context\" exists in df_cleaned\n",
    "df_cleaned['Context'] = None\n",
    "\n",
    "# Update the \"Context\" column in df_cleaned based on the new data\n",
    "for index, row in new_data.iterrows():\n",
    "    matching_index = df_cleaned[df_cleaned['Wikidata ID'] == row[0]].index\n",
    "    if not matching_index.empty:\n",
    "        df_cleaned.at[matching_index[0], 'Context'] = row[1]\n",
    "\n",
    "# Save the updated DataFrame to a CSV file\n",
    "df_cleaned.to_csv('database_cleaned.csv', index=False)"
   ]
  },
  {
   "cell_type": "code",
   "execution_count": 13,
   "metadata": {},
   "outputs": [],
   "source": [
    "import os\n",
    "\n",
    "# Define the directory containing the files\n",
    "directory = '/Users/lucyhorowitz/Documents/GitHub/MathGloss/context'\n",
    "\n",
    "# Iterate over each file in the directory\n",
    "for filename in os.listdir(directory):\n",
    "    if filename.endswith('.md'):\n",
    "        # Define the YAML header\n",
    "        yaml_header = f\"---\\nlayout: page\\ntitle: {filename.replace('_', ' ').replace('.md', '')}\\npermalink: /context/{filename}\\n---\\n\"\n",
    "        \n",
    "        # Read the content of the file\n",
    "        with open(os.path.join(directory, filename), 'r') as file:\n",
    "            content = file.read()\n",
    "        \n",
    "        # Write the YAML header and the original content back to the file\n",
    "        with open(os.path.join(directory, filename), 'w') as file:\n",
    "            file.write(yaml_header + content)"
   ]
  }
 ],
 "metadata": {
  "kernelspec": {
   "display_name": "Python 3",
   "language": "python",
   "name": "python3"
  },
  "language_info": {
   "codemirror_mode": {
    "name": "ipython",
    "version": 3
   },
   "file_extension": ".py",
   "mimetype": "text/x-python",
   "name": "python",
   "nbconvert_exporter": "python",
   "pygments_lexer": "ipython3",
   "version": "3.11.2"
  }
 },
 "nbformat": 4,
 "nbformat_minor": 2
}
